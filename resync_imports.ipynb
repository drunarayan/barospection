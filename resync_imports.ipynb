{
 "cells": [
  {
   "cell_type": "code",
   "execution_count": null,
   "id": "f19eec16-7bd5-4b44-b7a3-957ba01bde52",
   "metadata": {},
   "outputs": [],
   "source": [
    "![ ! -d \"$HOME/Interactives\" ] && ln -s /srv/data/shared/Interactives $HOME/python4spectroscopy"
   ]
  },
  {
   "cell_type": "markdown",
   "id": "e54a27da-9739-481a-a80c-edabfd75cc8b",
   "metadata": {},
   "source": [
    "<div class=\"alert alert-danger\">Did the <strong>Interactives</strong> folder show up inside the <strong>python4spectroscopy</strong> folder on the left panel?  If not - do NOT proceed - let me know.</div>"
   ]
  },
  {
   "cell_type": "code",
   "execution_count": null,
   "id": "683a8ab1-90aa-44f7-8d72-0cc6cfb0d639",
   "metadata": {},
   "outputs": [],
   "source": [
    "![ ! -d \"$HOME/dave_decker_spectral_images\" ] && ln -s /srv/data/shared/dave_decker_spectral_images $HOME/python4spectroscopy"
   ]
  },
  {
   "cell_type": "markdown",
   "id": "c48c4c62-34e9-4bb4-82e9-f9024de93c8c",
   "metadata": {},
   "source": [
    "<div class=\"alert alert-danger\">Did the <strong>dave_decker_spectral_images</strong> folder show up inside the <strong>python4spectroscopy</strong> folder on the left panel?  If not - do NOT proceed - let me know.</div>"
   ]
  },
  {
   "cell_type": "code",
   "execution_count": null,
   "id": "15158b6e-18d5-449a-b2d7-834cd3ff7dc7",
   "metadata": {},
   "outputs": [],
   "source": [
    "![ ! -d \"$HOME/spec_analysis\" ] && ln -s /srv/data/shared/spec_analysis $HOME/python4spectroscopy"
   ]
  },
  {
   "cell_type": "markdown",
   "id": "a2ea814b-4bba-4207-9021-8f7f5df17347",
   "metadata": {},
   "source": [
    "<div class=\"alert alert-danger\">Did the <strong>spec_analysis</strong> folder show up inside the <strong>python4spectroscopy</strong> folder on the left panel?  If not - do NOT proceed - let me know.</div>"
   ]
  },
  {
   "cell_type": "code",
   "execution_count": null,
   "id": "dde0d73f-645c-47e5-bf70-00deacc34407",
   "metadata": {},
   "outputs": [],
   "source": [
    "!cp $HOME/python4spectroscopy/spec_analysis/specutils_live.ipynb $HOME/python4spectroscopy"
   ]
  },
  {
   "cell_type": "markdown",
   "id": "42394157-f723-4329-8242-9779caf6cb15",
   "metadata": {},
   "source": [
    "<div class=\"alert alert-danger\">Did the <strong>specutils_live.ipynb</strong> notebook show up inside the <strong>python4spectroscopy</strong> folder on the left panel?  If not - do NOT proceed - let me know.</div>"
   ]
  },
  {
   "cell_type": "code",
   "execution_count": null,
   "id": "319a9d3d-ee49-4403-b5c7-078edbe4f702",
   "metadata": {},
   "outputs": [],
   "source": []
  },
  {
   "cell_type": "code",
   "execution_count": null,
   "id": "c0a3e689-3c1c-4bdb-a37d-40174ef45998",
   "metadata": {},
   "outputs": [],
   "source": []
  }
 ],
 "metadata": {
  "kernelspec": {
   "display_name": "Python 3 (ipykernel)",
   "language": "python",
   "name": "python3"
  },
  "language_info": {
   "codemirror_mode": {
    "name": "ipython",
    "version": 3
   },
   "file_extension": ".py",
   "mimetype": "text/x-python",
   "name": "python",
   "nbconvert_exporter": "python",
   "pygments_lexer": "ipython3",
   "version": "3.10.10"
  }
 },
 "nbformat": 4,
 "nbformat_minor": 5
}
