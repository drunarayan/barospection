{
 "cells": [
  {
   "cell_type": "markdown",
   "id": "6f0518bb",
   "metadata": {},
   "source": [
    "## Intro to JupyterHub, JupyterLab and Jupyter Notebook\n",
    "\n",
    "In this project you will get beginner's introduction to using JupyterLab and Jupyter Notebooks. For this course we created a JupyterHub virtual environment on Google Cloud where you will login to access course materials. These include inital version of Jupyter Notebooks, images, video, CSV files and other media which you will modify to create your own versions and publish them.\n",
    "\n",
    "## JupyterHub 🧪\n",
    "\n",
    "**JupyterHub** is a virtual environment on Google Cloud where you will login to access course materials and the server where your Jupyter Notebooks are hosted. This server is tuned for availability during daytime hours at each time zone that our participants access this course.\n",
    "\n",
    "## JupyterLab 🧪\n",
    "\n",
    "**JupyterLab** is a next-generation web-based user interface for Project Jupyter. It enables you to work with documents and activities such as Jupyter notebooks, text editors, terminals, and custom components in a flexible, integrated, and extensible manner. It is the interface that you're looking at right now.  If you like a tour, you can click [Getting started with JupyterLab Interface](https://jupyterlab.readthedocs.io/en/stable/user/interface.html).  Instead, you can also jump straight in below and learn by doing it!  If you are confused, come back to the above link.\n",
    "\n",
    "For a more complete discussion about JupyterLab I would recommnd No Complexity page on [Mastering JupyterLab](https://nocomplexity.com/documents/jupyterlab/intro.html)\n",
    "\n",
    "## Jupyter Notebooks 📓\n",
    "\n",
    "**Jupyter Notebooks** are a community standard for communicating and performing interactive computing. They are a document that blends computations, outputs, explanatory text, mathematics, images, and rich media representations of objects.  Notebooks contains multiple cells containing either Markdown syntax for text and images or Python code.\n"
   ]
  },
  {
   "cell_type": "markdown",
   "id": "9b849057",
   "metadata": {},
   "source": [
    "## JupyterLab Modal editor"
   ]
  },
  {
   "cell_type": "markdown",
   "id": "20571525",
   "metadata": {},
   "source": [
    "The modal user interface of the Jupyter Notebook has been optimized for efficient keyboard usage. This is made possible by having two different sets of keyboard shortcuts: one set that is active in edit mode and another in command mode.\n",
    "\n",
    "The most important keyboard shortcuts are `Enter`, which enters edit mode, and `Esc`, which enters command mode.\n",
    "\n",
    "In edit mode, most of the keyboard is dedicated to typing into the cell's editor. Thus, in edit mode there are relatively few shortcuts.  In command mode, the entire keyboard is available for shortcuts, so there are many more.  The `Help`->`Keyboard Shortcuts` dialog lists the available shortcuts."
   ]
  },
  {
   "cell_type": "markdown",
   "id": "7ec4897f",
   "metadata": {},
   "source": [
    "Jupyter Notebook has a modal user interface. This means that the keyboard does different things depending on which mode the Notebook is in. There are two modes: edit mode and command mode."
   ]
  },
  {
   "cell_type": "markdown",
   "id": "4fc161a0",
   "metadata": {},
   "source": [
    "### Edit mode"
   ]
  },
  {
   "cell_type": "markdown",
   "id": "f3ea66b3",
   "metadata": {},
   "source": [
    "Edit mode is indicated by a green cell border and a prompt showing in the editor area:\n",
    "\n",
    "![Jupyter cell with green border](assets_jupyter/edit_mode.png)\n",
    "\n",
    "When a cell is in edit mode, you can type into the cell, like a normal text editor."
   ]
  },
  {
   "cell_type": "markdown",
   "id": "b764f4bc",
   "metadata": {},
   "source": [
    "<div class=\"alert alert-success\">\n",
    "Enter edit mode by pressing `Enter` or using the mouse to click on a cell's editor area.\n",
    "</div>"
   ]
  },
  {
   "cell_type": "markdown",
   "id": "7e6a1fb3",
   "metadata": {},
   "source": [
    "### Command mode"
   ]
  },
  {
   "cell_type": "markdown",
   "id": "a6e5133b",
   "metadata": {},
   "source": [
    "Command mode is indicated by a grey cell border with a blue left margin:\n",
    "\n",
    "![Jupyter cell with blue & grey border](assets_jupyter/command_mode.png)\n",
    "\n",
    "When you are in command mode, you are able to edit the notebook as a whole, but not type into individual cells. Most importantly, in command mode, the keyboard is mapped to a set of shortcuts that let you perform notebook and cell actions efficiently. For example, if you are in command mode and you press `c`, you will copy the current cell - no modifier is needed."
   ]
  },
  {
   "cell_type": "markdown",
   "id": "e9fadae0",
   "metadata": {},
   "source": [
    "<div class=\"alert alert-error\">\n",
    "Don't try to type into a cell in command mode; unexpected things will happen!\n",
    "</div>"
   ]
  },
  {
   "cell_type": "markdown",
   "id": "79304dd8",
   "metadata": {},
   "source": [
    "<div class=\"alert alert-success\">\n",
    "Enter command mode by pressing `Esc` or using the mouse to click *outside* a cell's editor area.\n",
    "Press Shift-Enter to execute each cell's content and scroll to the next cell. Simply press Enter to view or edit contents of a cell. Press Esc to return to Command Mode.\n",
    "</div>"
   ]
  },
  {
   "cell_type": "markdown",
   "id": "ac36d948",
   "metadata": {},
   "source": [
    "We recommend learning the command mode shortcuts in the following rough order:\n",
    "\n",
    "1. Basic navigation: `enter`, `shift-enter`, `up/k`, `down/j`\n",
    "2. Saving the notebook: `s`\n",
    "2. Change Cell types: `y`, `m`, `1-6`, `t`\n",
    "3. Cell creation: `a`, `b`\n",
    "4. Cell editing: `x`, `c`, `v`, `d`, `z`\n",
    "5. Kernel operations: `i`, `0` (press twice)"
   ]
  },
  {
   "cell_type": "markdown",
   "id": "a096d152",
   "metadata": {},
   "source": [
    "### A handy way to shortcuts is to use the command palette: Cmd + Shift + P (or Ctrl + Shift + P on Linux and Windows). "
   ]
  },
  {
   "cell_type": "markdown",
   "id": "f6295932",
   "metadata": {},
   "source": [
    "Esc will take you into command mode where you can navigate around your notebook with arrow keys.\n",
    "While in command mode:\n",
    "\n",
    "* A to insert a new cell above the current cell, B to insert a new cell below.\n",
    "\n",
    "* M to change the current cell to Markdown, Y to change it back to code\n",
    "\n",
    "* D + D (press the key twice) to delete the current cell\n",
    "\n",
    "* Enter will take you from command mode back into edit mode for the given cell.\n",
    "\n",
    "* Shift + Tab will show you the Docstring (documentation) for the the object you have just typed in a code cell - you can keep pressing this short cut to cycle through a few modes of documentation.\n",
    "\n",
    "* Ctrl + Shift + - will split the current cell into two from where your cursor is.\n",
    "\n",
    "* Esc + F Find and replace on your code but not the outputs.\n",
    "\n",
    "* Esc + O Toggle cell output.\n",
    "\n",
    "* Select Multiple Cells:\n",
    "    Shift + J or Shift + Down selects the next sell in a downwards direction. You can also select sells in an upwards direction by using Shift + K or Shift + Up.\n",
    "    Once cells are selected, you can then delete / copy / cut / paste / run them as a batch. This is helpful when you need to move parts of a notebook.\n",
    "    You can also use Shift + M to merge multiple cells."
   ]
  }
 ],
 "metadata": {
  "language_info": {
   "name": "python"
  }
 },
 "nbformat": 4,
 "nbformat_minor": 5
}
