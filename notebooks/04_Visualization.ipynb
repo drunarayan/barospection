{
 "cells": [
  {
   "cell_type": "markdown",
   "metadata": {},
   "source": [
    "# Visualization in Python\n",
    "Credits: **Suhas Somnath**\n",
    "National Center for Computational Sciences\n",
    "Oak Ridge National Laboratory\n",
    "## Large ecosystem of visualization packages\n",
    "![title](https://github.com/rougier/python-visualization-landscape/raw/master/landscape-colors.png)\n",
    "From - https://github.com/rougier/python-visualization-landscape/raw/master/landscape-colors.png and inspired by Jake Vanderplas' presentations\n",
    "\n",
    "* **Several** [plotting libraries](https://www.youtube.com/watch?v=FytuB8nFHPQ)\n",
    "* **matplotlib** is the most popular package that also ships with Anaconda\n",
    "\n",
    "## Import necessary packages"
   ]
  },
  {
   "cell_type": "code",
   "execution_count": null,
   "metadata": {},
   "outputs": [],
   "source": [
    "# For numerical array\n",
    "import numpy as np\n",
    "# For plotting:\n",
    "import matplotlib.pyplot as plt\n",
    "# To ensure that the plots actually do appear in this notebook:\n",
    "%matplotlib inline"
   ]
  },
  {
   "cell_type": "markdown",
   "metadata": {},
   "source": [
    "## Let's just create a linearly spaced 1D array"
   ]
  },
  {
   "cell_type": "code",
   "execution_count": null,
   "metadata": {},
   "outputs": [],
   "source": [
    "time_vec = np.linspace(0, 2 * np.pi, num=20)\n",
    "print('Shape of time_vec: {}'.format(time_vec.shape))"
   ]
  },
  {
   "cell_type": "markdown",
   "metadata": {},
   "source": [
    "## Plotting curves\n",
    "Plotting in matplotlib require two separate lines\n",
    "* The first line makes the ``figure`` frame and a subplot within it, also refered to as an ``axis``\n",
    "* The second line visualizes the desired data"
   ]
  },
  {
   "cell_type": "code",
   "execution_count": null,
   "metadata": {},
   "outputs": [],
   "source": [
    "fig, axis = plt.subplots()\n",
    "axis.plot(time_vec);"
   ]
  },
  {
   "cell_type": "markdown",
   "metadata": {},
   "source": [
    "### Plotting a curve against a reference:"
   ]
  },
  {
   "cell_type": "code",
   "execution_count": null,
   "metadata": {},
   "outputs": [],
   "source": [
    "sine_vec = np.sin(time_vec)\n",
    "cos_vec = np.cos(time_vec)\n",
    "\n",
    "fig, axis = plt.subplots()\n",
    "axis.plot(cos_vec, sine_vec)"
   ]
  },
  {
   "cell_type": "markdown",
   "metadata": {},
   "source": [
    "### Plenty of customization options"
   ]
  },
  {
   "cell_type": "code",
   "execution_count": null,
   "metadata": {},
   "outputs": [],
   "source": [
    "fig, axis = plt.subplots()\n",
    "axis.plot(time_vec, sine_vec,\n",
    "         color='green', \n",
    "         marker='s', \n",
    "         linestyle='dashed',\n",
    "         linewidth=2, \n",
    "         markersize=10)\n",
    "\n",
    "axis.set_xlabel('Time (sec)')\n",
    "axis.set_ylabel('Amplitude (V)', fontsize=16)\n",
    "axis.set_title('My awesome signal', fontsize=18);"
   ]
  },
  {
   "cell_type": "markdown",
   "metadata": {},
   "source": [
    "## Scatter plot:"
   ]
  },
  {
   "cell_type": "code",
   "execution_count": null,
   "metadata": {},
   "outputs": [],
   "source": [
    "reference_vec = np.arange(16)\n",
    "observations = reference_vec ** 3\n",
    "fig, axis = plt.subplots()\n",
    "axis.scatter(reference_vec, observations)"
   ]
  },
  {
   "cell_type": "markdown",
   "metadata": {},
   "source": [
    "## Bar plot:"
   ]
  },
  {
   "cell_type": "code",
   "execution_count": null,
   "metadata": {},
   "outputs": [],
   "source": [
    "fig, axis = plt.subplots()\n",
    "axis.bar(reference_vec, observations)\n",
    "axis.set_xlabel('Year')\n",
    "axis.set_ylabel('Profits')\n",
    "axis.set_title('My fake business')"
   ]
  },
  {
   "cell_type": "markdown",
   "metadata": {},
   "source": [
    "## 2D Images"
   ]
  },
  {
   "cell_type": "code",
   "execution_count": null,
   "metadata": {},
   "outputs": [],
   "source": [
    "x_vec = np.linspace(0, 2*np.pi, 256)\n",
    "y_vec = np.sin(x_vec)\n",
    "two_d_image = y_vec * np.atleast_2d(y_vec).T\n",
    "\n",
    "print('Shape of the matrix: {}'.format(two_d_image.shape))\n",
    "\n",
    "fig, axis = plt.subplots()\n",
    "axis.imshow(two_d_image);"
   ]
  },
  {
   "cell_type": "markdown",
   "metadata": {},
   "source": [
    "### Plenty of customization options again"
   ]
  },
  {
   "cell_type": "code",
   "execution_count": null,
   "metadata": {},
   "outputs": [],
   "source": [
    "fig, axis = plt.subplots()\n",
    "axis.imshow(two_d_image, cmap=plt.cm.jet, origin='lower', vmin=-0.5, vmax=0.5)"
   ]
  },
  {
   "cell_type": "markdown",
   "metadata": {},
   "source": [
    "## Multiple subplots"
   ]
  },
  {
   "cell_type": "code",
   "execution_count": null,
   "metadata": {},
   "outputs": [],
   "source": [
    "fig, axes = plt.subplots(ncols=2, figsize=(6, 3))\n",
    "# First of the subplots\n",
    "axes[0].imshow(two_d_image)\n",
    "# Second subplot\n",
    "axes[1].plot(time_vec, sine_vec);"
   ]
  },
  {
   "cell_type": "markdown",
   "metadata": {},
   "source": [
    "## Exporting figures to images\n",
    "We do this using the ``save_fig()`` function which allows you to specify the desired location and name for the output file, the file format, resolution, etc.\n",
    "\n",
    "We generally export to two different formats depending on the use-case:\n",
    "* ``png`` for quick visualization and inserting into presentations. \n",
    "* ``pdf`` to generate high quality, [vector graphics](https://en.wikipedia.org/wiki/Vector_graphics) images for journal publications\n",
    "\n",
    "#### Tips:\n",
    "* Use the ``dpi`` option to change the resolution for ``png`` images\n",
    "* Use the ``bbox_inches='tight'`` option to ensure that your image fits within the ``pdf`` file"
   ]
  },
  {
   "cell_type": "code",
   "execution_count": null,
   "metadata": {},
   "outputs": [],
   "source": [
    "fig, axis = plt.subplots()\n",
    "axis.imshow(two_d_image);\n",
    "\n",
    "fig.savefig('rasterized_image.png', format='png', dpi=150);\n",
    "fig.savefig('vector_graphic.pdf', format='pdf', bbox_inches = 'tight')"
   ]
  },
  {
   "cell_type": "markdown",
   "metadata": {},
   "source": [
    "## The recommended way to use matplotlib:\n",
    "\n",
    "You will occasionally encounter people using a slightly different paradigm (``plt.imshow``, ``plt.plot``, etc.) of matplotlib where the figure and axes are not explicitely created before the actual visualization operation. While this method does work, it is **not the recommend** method for using matplotlib. \n",
    "\n",
    "You are recommended to use the procedure shown above instead."
   ]
  },
  {
   "cell_type": "markdown",
   "metadata": {},
   "source": [
    "## More resources\n",
    "### [Matplotlib Gallery](https://matplotlib.org/gallery.html)\n",
    "![Matplotlib gallery](./assets_visualization/matplotlib_gallery.png)\n",
    "### [ORNL's pyUSID.plot_utils](https://pycroscopy.github.io/pyUSID/auto_examples/beginner/plot_plot_utils.html)\n",
    "We have developed several plotting functions specifically for visualizing scientific imaging and spectral data. The functions in this submodule have been heavily used for generating figures for several [journal papers](https://pycroscopy.github.io/pycroscopy/papers_conferences.html#journal-papers-using-pycroscopy). We encourage you to use these functions for your own research\n",
    "![pyusid_plot_utils](https://pycroscopy.github.io/pyUSID/_images/sphx_glr_plot_plot_utils_003.png)\n",
    "### Updates to the [Python Visualization Landscape](https://pyviz.org/overviews/index.html)\n",
    "### Highly recommended video:"
   ]
  },
  {
   "cell_type": "code",
   "execution_count": null,
   "metadata": {},
   "outputs": [],
   "source": [
    "from IPython.display import HTML\n",
    "HTML('<iframe width=\"560\" height=\"315\" src=\"https://www.youtube.com/embed/FytuB8nFHPQ?rel=0&amp;controls=0&amp;showinfo=0\" frameborder=\"0\" allowfullscreen></iframe>')"
   ]
  },
  {
   "cell_type": "code",
   "execution_count": null,
   "metadata": {},
   "outputs": [],
   "source": []
  }
 ],
 "metadata": {
  "kernelspec": {
   "display_name": "Python [default]",
   "language": "python",
   "name": "python3"
  },
  "language_info": {
   "codemirror_mode": {
    "name": "ipython",
    "version": 3
   },
   "file_extension": ".py",
   "mimetype": "text/x-python",
   "name": "python",
   "nbconvert_exporter": "python",
   "pygments_lexer": "ipython3",
   "version": "3.5.5"
  }
 },
 "nbformat": 4,
 "nbformat_minor": 1
}
