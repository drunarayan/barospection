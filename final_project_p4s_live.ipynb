{
 "cells": [
  {
   "cell_type": "markdown",
   "metadata": {},
   "source": [
    "#  Final Project for the Python for Spectroscopy Workshop\n",
    "## Adapted by Chandru using Astropy Specutils & STSci JWST Toolset\n",
    "\n",
    "![Specutils: An Astropy Package for Spectroscopy](spec_analysis/specutils_logo.png)\n",
    "\n",
    "This notebook is intended for live-coding during the Python for Spectroscopy workshop. You should only do this if you feel comfortable trying to keep up! If you'd rather have an already-populated solution notebook, go to [final_project_p4s.ipynb](spec_analysis/final_project_p4s.ipynb) instead, which you can execute as we go."
   ]
  },
  {
   "cell_type": "markdown",
   "metadata": {},
   "source": [
    "#  Import Required Libraries & Packages"
   ]
  },
  {
   "cell_type": "code",
   "execution_count": 1,
   "metadata": {},
   "outputs": [
    {
     "data": {
      "text/plain": [
       "'1.15.0'"
      ]
     },
     "execution_count": 1,
     "metadata": {},
     "output_type": "execute_result"
    }
   ],
   "source": [
    "import numpy as np\n",
    "\n",
    "import astropy.units as u\n",
    "from astropy.io import fits\n",
    "from astropy.utils.data import download_file\n",
    "\n",
    "import specutils\n",
    "from specutils import Spectrum1D, SpectralRegion, analysis, manipulation, fitting\n",
    "specutils.__version__"
   ]
  },
  {
   "cell_type": "code",
   "execution_count": 2,
   "metadata": {},
   "outputs": [],
   "source": [
    "# for plotting:\n",
    "%matplotlib inline\n",
    "import matplotlib.pyplot as plt\n",
    "\n",
    "\n",
    "# for showing quantity units on axes automatically:\n",
    "from astropy.visualization import quantity_support\n",
    "quantity_support();"
   ]
  },
  {
   "cell_type": "markdown",
   "metadata": {
    "jp-MarkdownHeadingCollapsed": true
   },
   "source": [
    "# Fundamentals of specutils (skip if you are already familiar)"
   ]
  },
  {
   "cell_type": "markdown",
   "metadata": {},
   "source": [
    "## Objects for representing spectra\n",
    "\n",
    "The most fundamental purpose of `specutils` is to contain the shared Python-level data structures for storing astronomical spectra.  It is important to recognize that this is not the same as the *on-disk* representation.  As desecribed later specutils provides loaders and writers for various on-disk representations, with the intent that they all load to a common set of in-memory/Python interfaces.  Those intefaces (implemented as Python classes) are described in detail in the [relevant section of the documentation](https://specutils.readthedocs.io/en/latest/types_of_spectra.html), which contains this diagram:\n",
    "\n",
    "![Specutils Classes](spec_analysis/specutils_classes_diagrams.png)\n",
    "\n",
    "The core principal is that all of these representations contain a `spectral_axis` attribute as well as a `flux` attribute (as well as optional matching `uncertainty`).  The former is often wavelength for OIR spectra, but might be frequency or energy for e.g. Radio or X-ray spectra.  Regardless of which spectral axis is used, the class attempts to interpret it appropriately, using the features of `astropy.Quantity` to distinguish different types of axes.  Similarly, `flux` may or may not be a traditional astronomical `flux` unit (e.g. Jy or  erg sec$^{-1}$ cm$^{-2}$ angstrom$^{-1}$), but is treated as the portion of the spectrum that acts in that manner.  The various classes are then distinguished by whether these attributes are one-dimensional or not, and how to map the `spectral_axis` dimensionality onto the `flux`.  The simplest case (and the one primarily considered here) is the scalar `Spectrum1D` case, which is a single spectrum with a matched-size `flux` and `spectral_axis`."
   ]
  },
  {
   "cell_type": "markdown",
   "metadata": {},
   "source": [
    "## Basics of creating Spectrum1D Objects\n",
    "\n",
    "If your spectrum is in a format that specutils understands, loading it is very straightforward.  There are times when you want a bit more control, though, so lets look at loading from a file and creating an object directly from arrays:"
   ]
  },
  {
   "cell_type": "markdown",
   "metadata": {},
   "source": [
    "## Loading spectra from files\n",
    "\n",
    "Specutils comes with readers for a variety of spectral data formats (including loaders for future JWST instruments). While support for specific formats depends primarily from users (like you!) providing readers, you may find that one has already been implemented for your favorite spectrum format.  As an example, we consider a simulated high-redshift (z > 1) galaxy like that you might see from NIRSpec:"
   ]
  },
  {
   "cell_type": "code",
   "execution_count": 3,
   "metadata": {},
   "outputs": [],
   "source": [
    "url_to_download = 'https://stsci.box.com/shared/static/b22b1fzhimtdqfp8597m4bg67kovvauu.fits'"
   ]
  },
  {
   "cell_type": "code",
   "execution_count": 4,
   "metadata": {},
   "outputs": [
    {
     "data": {
      "text/plain": [
       "'/home/jupyter-chandru.narayan.p4-65095/.astropy/cache/download/url/cda1d30009641d0a2739c2f5198a3f41/contents'"
      ]
     },
     "execution_count": 4,
     "metadata": {},
     "output_type": "execute_result"
    }
   ],
   "source": [
    "from astropy.utils.data import download_file\n",
    "\n",
    "spec_fn = download_file(url_to_download, cache=True)\n",
    "spec_fn"
   ]
  },
  {
   "cell_type": "markdown",
   "metadata": {},
   "source": [
    "To see the full list of formats readable in your current version of specutils, see the table at the bottom of the `Spectrum1d.read` method:"
   ]
  },
  {
   "cell_type": "code",
   "execution_count": 5,
   "metadata": {},
   "outputs": [
    {
     "data": {
      "text/plain": [
       "[<matplotlib.lines.Line2D at 0x7fdceea41ea0>]"
      ]
     },
     "execution_count": 5,
     "metadata": {},
     "output_type": "execute_result"
    },
    {
     "data": {
      "image/png": "[encoded data removed]",
      "text/plain": [
       "<Figure size 640x480 with 1 Axes>"
      ]
     },
     "metadata": {},
     "output_type": "display_data"
    }
   ],
   "source": [
    "sample_spec = Spectrum1D.read(spec_fn)\n",
    "sample_spec\n",
    "plt.plot(sample_spec.spectral_axis, sample_spec.flux)"
   ]
  },
  {
   "cell_type": "code",
   "execution_count": 6,
   "metadata": {
    "scrolled": true
   },
   "outputs": [
    {
     "name": "stdout",
     "output_type": "stream",
     "text": [
      "Help on NDDataRead in module astropy.nddata.mixins.ndio object:\n",
      "\n",
      "class NDDataRead(astropy.io.registry.interface.UnifiedReadWrite)\n",
      " |  NDDataRead(instance, cls)\n",
      " |  \n",
      " |  Read and parse gridded N-dimensional data and return as an NDData-derived\n",
      " |  object.\n",
      " |  \n",
      " |  This function provides the NDDataBase interface to the astropy unified I/O\n",
      " |  layer.  This allows easily reading a file in the supported data formats,\n",
      " |  for example::\n",
      " |  \n",
      " |    >>> from astropy.nddata import CCDData\n",
      " |    >>> dat = CCDData.read('image.fits')\n",
      " |  \n",
      " |  Get help on the available readers for ``CCDData`` using the``help()`` method::\n",
      " |  \n",
      " |    >>> CCDData.read.help()  # Get help reading CCDData and list supported formats\n",
      " |    >>> CCDData.read.help('fits')  # Get detailed help on CCDData FITS reader\n",
      " |    >>> CCDData.read.list_formats()  # Print list of available formats\n",
      " |  \n",
      " |  For more information see:\n",
      " |  \n",
      " |  - https://docs.astropy.org/en/stable/nddata\n",
      " |  - https://docs.astropy.org/en/stable/io/unified.html\n",
      " |  \n",
      " |  Parameters\n",
      " |  ----------\n",
      " |  *args : tuple, optional\n",
      " |      Positional arguments passed through to data reader. If supplied the\n",
      " |      first argument is the input filename.\n",
      " |  format : str, optional\n",
      " |      File format specifier.\n",
      " |  cache : bool, optional\n",
      " |      Caching behavior if file is a URL.\n",
      " |  **kwargs : dict, optional\n",
      " |      Keyword arguments passed through to data reader.\n",
      " |  \n",
      " |  Returns\n",
      " |  -------\n",
      " |  out : `NDData` subclass\n",
      " |      NDData-basd object corresponding to file contents\n",
      " |  \n",
      " |  Notes\n",
      " |  -----\n",
      " |  \n",
      " |  The available built-in formats are:\n",
      " |  \n",
      " |  ============================= ==== ===== =============\n",
      " |              Format            Read Write Auto-identify\n",
      " |  ============================= ==== ===== =============\n",
      " |                      2SLAQ-LRG  Yes    No            No\n",
      " |                         2dFGRS  Yes    No           Yes\n",
      " |                 6dFGS-combined  Yes    No           Yes\n",
      " |                    6dFGS-split  Yes    No           Yes\n",
      " |                  6dFGS-tabular  Yes    No           Yes\n",
      " |                  APOGEE apStar  Yes    No           Yes\n",
      " |                 APOGEE apVisit  Yes    No           Yes\n",
      " |              APOGEE aspcapStar  Yes    No           Yes\n",
      " |                          ASCII  Yes    No           Yes\n",
      " |                     DESI coadd  Yes    No           Yes\n",
      " |                   DESI spectra  Yes    No           Yes\n",
      " |           Data Central AAOmega  Yes    No           Yes\n",
      " |  Data Central Multiline-Single  Yes    No           Yes\n",
      " |      Data Central Single-Split  Yes    No           Yes\n",
      " |                           ECSV  Yes    No           Yes\n",
      " |                          GALAH  Yes    No           Yes\n",
      " |                           GAMA  Yes    No           Yes\n",
      " |                       GAMA-2QZ  Yes    No           Yes\n",
      " |                 GAMA-2SLAQ-QSO  Yes    No           Yes\n",
      " |                    GAMA-2dFGRS  Yes    No           Yes\n",
      " |                        GAMA-LT  Yes    No           Yes\n",
      " |                       GAMA-MGC  Yes    No           Yes\n",
      " |                   GAMA-WiggleZ  Yes    No           Yes\n",
      " |                        HST/COS  Yes    No           Yes\n",
      " |                       HST/STIS  Yes    No           Yes\n",
      " |                           IPAC  Yes    No           Yes\n",
      " |                       JWST c1d  Yes    No           Yes\n",
      " |                 JWST c1d multi  Yes    No           Yes\n",
      " |                       JWST s2d  Yes    No           Yes\n",
      " |                 JWST s2d multi  Yes    No           Yes\n",
      " |                       JWST s3d  Yes    No           Yes\n",
      " |                       JWST x1d  Yes    No           Yes\n",
      " |              JWST x1d MIRI MRS  Yes    No           Yes\n",
      " |                 JWST x1d multi  Yes    No           Yes\n",
      " |                    MUSCLES SED  Yes    No           Yes\n",
      " |                     MaNGA cube  Yes    No           Yes\n",
      " |                      MaNGA rss  Yes    No           Yes\n",
      " |                          OzDES  Yes    No           Yes\n",
      " |                   SAMI-1d-spec  Yes    No           Yes\n",
      " |                      SAMI-cube  Yes    No           Yes\n",
      " |                   SDSS spPlate  Yes    No           Yes\n",
      " |               SDSS-I/II spSpec  Yes    No           Yes\n",
      " |               SDSS-III/IV spec  Yes    No           Yes\n",
      " |                  SDSS-V apStar  Yes    No           Yes\n",
      " |            SDSS-V apStar multi  Yes    No           Yes\n",
      " |                 SDSS-V apVisit  Yes    No           Yes\n",
      " |           SDSS-V apVisit multi  Yes    No           Yes\n",
      " |                     SDSS-V mwm  Yes    No           Yes\n",
      " |               SDSS-V mwm multi  Yes    No           Yes\n",
      " |                    SDSS-V spec  Yes    No           Yes\n",
      " |              SDSS-V spec multi  Yes    No           Yes\n",
      " |               Subaru-pfsObject  Yes    No           Yes\n",
      " |                        WiggleZ  Yes    No           Yes\n",
      " |                           iraf  Yes    No           Yes\n",
      " |                   tabular-fits  Yes    No           Yes\n",
      " |                     wcs1d-fits  Yes    No           Yes\n",
      " |  ============================= ==== ===== =============\n",
      " |  \n",
      " |  Method resolution order:\n",
      " |      NDDataRead\n",
      " |      astropy.io.registry.interface.UnifiedReadWrite\n",
      " |      builtins.object\n",
      " |  \n",
      " |  Methods defined here:\n",
      " |  \n",
      " |  __call__(self, *args, **kwargs)\n",
      " |      Call self as a function.\n",
      " |  \n",
      " |  __init__(self, instance, cls)\n",
      " |      Initialize self.  See help(type(self)) for accurate signature.\n",
      " |  \n",
      " |  ----------------------------------------------------------------------\n",
      " |  Methods inherited from astropy.io.registry.interface.UnifiedReadWrite:\n",
      " |  \n",
      " |  help(self, format=None, out=None)\n",
      " |      Output help documentation for the specified unified I/O ``format``.\n",
      " |      \n",
      " |      By default the help output is printed to the console via ``pydoc.pager``.\n",
      " |      Instead one can supplied a file handle object as ``out`` and the output\n",
      " |      will be written to that handle.\n",
      " |      \n",
      " |      Parameters\n",
      " |      ----------\n",
      " |      format : str\n",
      " |          Unified I/O format name, e.g. 'fits' or 'ascii.ecsv'\n",
      " |      out : None or path-like\n",
      " |          Output destination (default is stdout via a pager)\n",
      " |  \n",
      " |  list_formats(self, out=None)\n",
      " |      Print a list of available formats to console (or ``out`` filehandle).\n",
      " |      \n",
      " |      out : None or file handle object\n",
      " |          Output destination (default is stdout via a pager)\n",
      " |  \n",
      " |  ----------------------------------------------------------------------\n",
      " |  Readonly properties inherited from astropy.io.registry.interface.UnifiedReadWrite:\n",
      " |  \n",
      " |  registry\n",
      " |      Unified I/O registry instance.\n",
      " |  \n",
      " |  ----------------------------------------------------------------------\n",
      " |  Data descriptors inherited from astropy.io.registry.interface.UnifiedReadWrite:\n",
      " |  \n",
      " |  __dict__\n",
      " |      dictionary for instance variables (if defined)\n",
      " |  \n",
      " |  __weakref__\n",
      " |      list of weak references to the object (if defined)\n",
      "\n"
     ]
    }
   ],
   "source": [
    "help(Spectrum1D.read)"
   ]
  },
  {
   "cell_type": "markdown",
   "metadata": {},
   "source": [
    "# Create a JWST Spectrum1D object from Dave Decker spectra"
   ]
  },
  {
   "cell_type": "markdown",
   "metadata": {},
   "source": [
    "## Download fits images and spectra"
   ]
  },
  {
   "cell_type": "code",
   "execution_count": 35,
   "metadata": {},
   "outputs": [
    {
     "name": "stdout",
     "output_type": "stream",
     "text": [
      "Filename: dave_decker_spectral_images/Calibrated_1D_Spectra/Arcturus_DaveDecker_2024-06-28_CALIB.fit\n",
      "No.    Name      Ver    Type      Cards   Dimensions   Format\n",
      "  0  PRIMARY       1 PrimaryHDU      43   (3096,)   float32   \n",
      "Filename: dave_decker_spectral_images/Stacked Data Files/Alf Boo-Comp_stacked.fit\n",
      "No.    Name      Ver    Type      Cards   Dimensions   Format\n",
      "  0  PRIMARY       1 PrimaryHDU      43   (3096, 2080)   float32   \n"
     ]
    }
   ],
   "source": [
    "# Only use this if files are locally available on JupyterHub\n",
    "fits_fn = 'dave_decker_spectral_images/Calibrated_1D_Spectra/Arcturus_DaveDecker_2024-06-28_CALIB.fit'\n",
    "#fits_fn = 'dave_decker_spectral_images/Calibrated_1D_Spectra/Antares_DaveDecker_2024-07-01_CALIB.fit'\n",
    "imag_fn = 'dave_decker_spectral_images/Stacked Data Files/Alf Boo-Comp_stacked.fit'\n",
    "#imag_fn = 'dave_decker_spectral_images/Stacked Data Files/Antares_stacked.fit'\n",
    "fitsfile = fits.open(fits_fn)\n",
    "fitsfile.info()\n",
    "imagfile = fits.open(imag_fn)\n",
    "imagfile.info()\n",
    "fitsfile.close()"
   ]
  },
  {
   "cell_type": "code",
   "execution_count": 37,
   "metadata": {},
   "outputs": [
    {
     "name": "stdout",
     "output_type": "stream",
     "text": [
      "Filename: /home/jupyter-chandru.narayan.p4-65095/.astropy/cache/download/url/94741bb12a611d6383696fdae2d2ab79/contents\n",
      "No.    Name      Ver    Type      Cards   Dimensions   Format\n",
      "  0  PRIMARY       1 PrimaryHDU      43   (3096,)   float32   \n",
      "Filename: /home/jupyter-chandru.narayan.p4-65095/.astropy/cache/download/url/b5da20ac6b298db608d7593808a78290/contents\n",
      "No.    Name      Ver    Type      Cards   Dimensions   Format\n",
      "  0  PRIMARY       1 PrimaryHDU      43   (3096, 2080)   float32   \n"
     ]
    }
   ],
   "source": [
    "# Only use this if files are available on Chandru's website below\n",
    "fits_url_to_download = 'http://chandrunarayan.com/boyce_astro/dave_decker_spectral_images/Calibrated_1D_Spectra/Arcturus_DaveDecker_2024-06-28_CALIB.fit'\n",
    "#fits_url_to_download = 'http://chandrunarayan.com/boyce_astro/dave_decker_spectral_images/Calibrated_1D_Spectra/Antares_DaveDecker_2024-07-01_CALIB.fit'\n",
    "imag_url_to_download = 'http://chandrunarayan.com/boyce_astro/dave_decker_spectral_images/Stacked Data Files/Alf Boo-Comp_stacked.fit'\n",
    "#imag_url_to_download = 'http://chandrunarayan.com/boyce_astro/dave_decker_spectral_images/Stacked Data Files/Antares_stacked.fit'\n",
    "fits_url_to_download = fits_url_to_download.replace(\" \", \"%20\")\n",
    "imag_url_to_download = imag_url_to_download.replace(\" \", \"%20\")\n",
    "fits_fn = download_file(fits_url_to_download, cache=True)\n",
    "imag_fn = download_file(imag_url_to_download, cache=True)\n",
    "fitsfile = fits.open(fits_fn)\n",
    "fitsfile.info()\n",
    "imagfile = fits.open(imag_fn)\n",
    "imagfile.info()"
   ]
  },
  {
   "cell_type": "markdown",
   "metadata": {},
   "source": [
    "## Examine Headers & Plot Data - determine any offsets\n",
    "\n",
    "This will show Specviz inline in the notebook. You can pass an integer to the `height` keyword to change the displayed height of the app (the default is 600). You can also pass `loc=\\\"popout:window\\\"` to immediately pop out the Jdaviz app into a separate window."
   ]
  },
  {
   "cell_type": "code",
   "execution_count": 9,
   "metadata": {
    "tags": []
   },
   "outputs": [],
   "source": [
    "from jdaviz import Specviz\n",
    "specviz = Specviz()"
   ]
  },
  {
   "cell_type": "code",
   "execution_count": 10,
   "metadata": {
    "tags": []
   },
   "outputs": [],
   "source": [
    "#specviz.show()\n",
    "#specviz.show(loc=\"sidecar\")"
   ]
  },
  {
   "cell_type": "code",
   "execution_count": 11,
   "metadata": {},
   "outputs": [],
   "source": [
    "#specviz.load_data(cust_spec1d)"
   ]
  },
  {
   "cell_type": "code",
   "execution_count": 12,
   "metadata": {},
   "outputs": [
    {
     "data": {
      "text/plain": [
       "SIMPLE  =                    T / file does conform to FITS standard             \n",
       "BITPIX  =                  -32 / number of bits per data pixel                  \n",
       "NAXIS   =                    1 / number of data axes                            \n",
       "NAXIS1  =                 3096 / length of data axis 1                          \n",
       "CRPIX1  =                    475 / Reference pixel                              \n",
       "CDELT1  =       9.15056952998788 / Coordinate increment                         \n",
       "CRVAL1  =       307.345543151757 / Coordinate at reference pixel                \n",
       "CTYPE1  = 'Wavelength'           / Axis Type                                    \n",
       "CUNIT1  = 'Angstrom'             / Wavelength unit                              \n",
       "SWCREATE= 'RSpec 2.1.1.18'                                                      \n",
       "VERSION = 'RSpec 2.1.1.18'                                                      \n",
       "OBSERVER= 'DDGB'                                                                \n",
       "BSS_SITE= 'La Mesa'              / Observation Site                             \n",
       "BSS_INST= 'HCSG_C6_ASI 178'      / Instrument                                   \n",
       "OBJNAME = 'Antares'              / Current name of Object                       \n",
       "DATE-OBS= '2024-07-01T05:55:57'  / Date of observation start                    \n",
       "EXPTIME =                   62.0 / [s] Total time of exposure                   \n",
       "BSS_VHEL=                      0 / [km/s] Applied heliocentric correction       \n",
       "BSS_ITRP=                    100 / Instrument Typical Resolving Power           \n",
       "EXTEND  =                    T / FITS dataset may contain extensions            \n",
       "ROWORDER= 'TOP-DOWN'           / Order of the rows in image array               \n",
       "DATE    = '2024-07-02T17:54:37' / UTC date that FITS file was created           \n",
       "STACKCNT=                   40 / Stack frames                                   \n",
       "LIVETIME=             62.08684 / Exposure time after deadtime correction        \n",
       "EXPSTART=     2460492.74718813 / Exposure start time (standard Julian date)     \n",
       "EXPEND  =     2460492.74836588 / Exposure end time (standard Julian date)       \n",
       "XPIXSZ  =                  2.4 / X pixel size microns                           \n",
       "YPIXSZ  =                  2.4 / Y pixel size microns                           \n",
       "XBINNING=                    1 / Camera binning mode                            \n",
       "YBINNING=                    1 / Camera binning mode                            \n",
       "CCD-TEMP=                 23.6 / CCD temp in C                                  \n",
       "IMAGETYP= 'Light   '           / Type of image                                  \n",
       "OFFSET  =                   10 / Camera offset                                  \n",
       "AIRMASS =     1.95098410355605 / Airmass                                        \n",
       "SITELAT =     32.7988888888889 / [deg] Observation site latitude                \n",
       "SITELONG=    -116.983333333333 / [deg] Observation site longitude               \n",
       "PROGRAM = 'Siril v1.2.0-beta2' / Software that created this HDU                 \n",
       "CTYPE2  = 'DEC--TAN'           / Coordinate type for the second axis            \n",
       "CUNIT2  = 'deg     '           / Unit of coordinates                            \n",
       "OBJCTRA = '16 30 54.000'       / Image center Right Ascension (hms)             \n",
       "OBJCTDEC= '-26 21 30.000'      / Image center Declination (dms)                 \n",
       "HISTORY sum stacking without rejection, unnormalized input, unnormalized output,\n",
       "HISTORY  no image weighting                                                     "
      ]
     },
     "execution_count": 12,
     "metadata": {},
     "output_type": "execute_result"
    }
   ],
   "source": [
    "myhdr = fitsfile[0].header\n",
    "myhdr"
   ]
  },
  {
   "cell_type": "code",
   "execution_count": 13,
   "metadata": {
    "scrolled": true
   },
   "outputs": [
    {
     "data": {
      "text/plain": [
       "array([ 0.      ,  0.      ,  0.      , ..., 24.909164, 23.954582,\n",
       "       23.954582], dtype='>f4')"
      ]
     },
     "execution_count": 13,
     "metadata": {},
     "output_type": "execute_result"
    }
   ],
   "source": [
    "mydat = fitsfile[0].data\n",
    "mydat"
   ]
  },
  {
   "cell_type": "code",
   "execution_count": 14,
   "metadata": {},
   "outputs": [
    {
     "name": "stdout",
     "output_type": "stream",
     "text": [
      "[ 0.        0.        0.       ... 24.909164 23.954582 23.954582] ct\n",
      "3096\n",
      "6685.84619140625 ct\n",
      "441\n"
     ]
    }
   ],
   "source": [
    "flux = mydat*u.count\n",
    "print(flux)\n",
    "print(len(flux))\n",
    "print(max(flux))\n",
    "print(np.argmax(flux))"
   ]
  },
  {
   "cell_type": "code",
   "execution_count": 15,
   "metadata": {},
   "outputs": [],
   "source": [
    "raw_pixels = np.arange(3096)*u.pixel\n",
    "offset_pixels = (np.arange(3096) - np.argmax(flux))*u.pixel"
   ]
  },
  {
   "cell_type": "code",
   "execution_count": 16,
   "metadata": {},
   "outputs": [
    {
     "data": {
      "text/plain": [
       "[<matplotlib.lines.Line2D at 0x7fdce977a680>]"
      ]
     },
     "execution_count": 16,
     "metadata": {},
     "output_type": "execute_result"
    },
    {
     "data": {
      "image/png": "[encoded data removed]",
      "text/plain": [
       "<Figure size 1000x400 with 2 Axes>"
      ]
     },
     "metadata": {},
     "output_type": "display_data"
    }
   ],
   "source": [
    "fig, (ax1, ax2) = plt.subplots(2,figsize=(10, 4))\n",
    "fig.suptitle('Relative Flux vs Pixels')\n",
    "ax1.plot(raw_pixels, flux)\n",
    "ax2.plot(offset_pixels, flux)"
   ]
  },
  {
   "cell_type": "markdown",
   "metadata": {},
   "source": [
    "## Create a Spectrum1D object for passing to Specviz\n",
    "\n",
    "This will show Specviz inline in the notebook. You can pass an integer to the `height` keyword to change the displayed height of the app (the default is 600). You can also pass `loc=\\\"popout:window\\\"` to immediately pop out the Jdaviz app into a separate window."
   ]
  },
  {
   "cell_type": "code",
   "execution_count": 17,
   "metadata": {},
   "outputs": [],
   "source": [
    "wavelength = raw_pixels\n",
    "arcturus_spec1d_raw = Spectrum1D(spectral_axis=wavelength,flux=flux)\n",
    "wavelength = offset_pixels\n",
    "arcturus_spec1d_off = Spectrum1D(spectral_axis=wavelength,flux=flux)"
   ]
  },
  {
   "cell_type": "code",
   "execution_count": 18,
   "metadata": {},
   "outputs": [
    {
     "data": {
      "text/plain": [
       "[<matplotlib.lines.Line2D at 0x7fdce968e140>]"
      ]
     },
     "execution_count": 18,
     "metadata": {},
     "output_type": "execute_result"
    },
    {
     "data": {
      "image/png": "[encoded data removed]",
      "text/plain": [
       "<Figure size 1000x800 with 2 Axes>"
      ]
     },
     "metadata": {},
     "output_type": "display_data"
    }
   ],
   "source": [
    "fig, (ax1, ax2) = plt.subplots(2,figsize=(10, 8))\n",
    "fig.suptitle('Relative Flux vs Pixels')\n",
    "ax1.plot(arcturus_spec1d_raw.spectral_axis, arcturus_spec1d_raw.flux)\n",
    "ax2.plot(arcturus_spec1d_off.spectral_axis, arcturus_spec1d_off.flux)"
   ]
  },
  {
   "cell_type": "code",
   "execution_count": 19,
   "metadata": {},
   "outputs": [],
   "source": [
    "#specviz.show(loc=\"sidecar\")\n",
    "specviz.show(loc=\"sidecar\")\n",
    "#specviz.load_data(arcturus_spec1d_raw)\n",
    "#specviz.load_data(arcturus_spec1d_off)"
   ]
  },
  {
   "cell_type": "code",
   "execution_count": 20,
   "metadata": {},
   "outputs": [
    {
     "data": {
      "text/plain": [
       "13247.543918918918"
      ]
     },
     "execution_count": 20,
     "metadata": {},
     "output_type": "execute_result"
    }
   ],
   "source": [
    "app = 6562.8/(1348-756)\n",
    "pix_ang = [\n",
    "   (u.pixel, u.Angstrom, lambda x: (x - np.argmax(flux))*app, lambda x: x/app+np.argmax(flux))\n",
    "]\n",
    "u.pixel.to(u.Angstrom, 1636, equivalencies=pix_ang)"
   ]
  },
  {
   "cell_type": "code",
   "execution_count": 21,
   "metadata": {},
   "outputs": [
    {
     "name": "stdout",
     "output_type": "stream",
     "text": [
      "hyd alp std wl = 6562.8 Angstrom & pixels = 1348.0 pix\n",
      "unk cal wl = 13247.543918918918 Angstrom\n"
     ]
    }
   ],
   "source": [
    "hyd_alp_prf_wl = 1348*u.pixel\n",
    "hyd_alp_ref_wl = 6562.8*u.Angstrom\n",
    "unk_prf_wl = 1636*u.pixel\n",
    "print(f'hyd alp std wl = {hyd_alp_ref_wl.to(u.Angstrom, equivalencies=pix_ang)} & pixels = {hyd_alp_prf_wl}')\n",
    "print(f'unk cal wl = {unk_prf_wl.to(u.Angstrom, equivalencies=pix_ang)}')"
   ]
  },
  {
   "cell_type": "code",
   "execution_count": 22,
   "metadata": {},
   "outputs": [
    {
     "data": {
      "text/plain": [
       "<Spectrum1D(flux=[0.0 ... 23.95458221435547] ct (shape=(3096,), mean=227.89162 ct); spectral_axis=<SpectralAxis [-4888.84256757 -4877.75675676 -4866.67094595 ... 29399.57027027\n",
       " 29410.65608108 29421.74189189] Angstrom> (length=3096))>"
      ]
     },
     "execution_count": 22,
     "metadata": {},
     "output_type": "execute_result"
    }
   ],
   "source": [
    "raw_pixels = np.arange(3096)*u.pixel\n",
    "wavelength = raw_pixels.to(u.Angstrom, equivalencies=pix_ang)\n",
    "wavelength\n",
    "arcturus_spec1d_calib = Spectrum1D(spectral_axis=wavelength,flux=flux)\n",
    "arcturus_spec1d_calib"
   ]
  },
  {
   "cell_type": "code",
   "execution_count": 23,
   "metadata": {},
   "outputs": [
    {
     "name": "stderr",
     "output_type": "stream",
     "text": [
      "WARNING: UnitsWarning: The unit 'Angstrom' has been deprecated in the VOUnit standard. Suggested: 0.1nm. [astropy.units.format.utils]\n",
      "WARNING:astropy:UnitsWarning: The unit 'Angstrom' has been deprecated in the VOUnit standard. Suggested: 0.1nm.\n",
      "WARNING: UnitsWarning: The unit 'Angstrom' has been deprecated in the VOUnit standard. Suggested: 0.1nm. [astropy.units.format.utils]\n",
      "WARNING:astropy:UnitsWarning: The unit 'Angstrom' has been deprecated in the VOUnit standard. Suggested: 0.1nm.\n",
      "WARNING: UnitsWarning: The unit 'Angstrom' has been deprecated in the VOUnit standard. Suggested: 0.1nm. [astropy.units.format.utils]\n",
      "WARNING:astropy:UnitsWarning: The unit 'Angstrom' has been deprecated in the VOUnit standard. Suggested: 0.1nm.\n"
     ]
    }
   ],
   "source": [
    "specviz.load_data(arcturus_spec1d_calib)"
   ]
  },
  {
   "cell_type": "markdown",
   "metadata": {},
   "source": [
    "# Arithmetic on Spectra\n",
    "\n",
    "Specutils provides a lot of functionality for manipulating spectra.  In general these follow the pattern of creating *new* specutils objects with the results of the operation instead of in-place operations.\n",
    "\n",
    "The most straightforward of operations are arithmetic manipulations.  In general these follow patterns that are based on fundametal arithmetic. E.g.:"
   ]
  },
  {
   "cell_type": "code",
   "execution_count": null,
   "metadata": {},
   "outputs": [],
   "source": []
  },
  {
   "cell_type": "markdown",
   "metadata": {},
   "source": [
    "However, when there is ambiguity in your intent - for example, two spectra with different units where it is not clear what the desired output is - errors are generally produced instead of the code attempting to guess:"
   ]
  },
  {
   "cell_type": "code",
   "execution_count": null,
   "metadata": {},
   "outputs": [],
   "source": []
  },
  {
   "cell_type": "markdown",
   "metadata": {},
   "source": [
    "Resolving this requires explicit conversion:"
   ]
  },
  {
   "cell_type": "code",
   "execution_count": null,
   "metadata": {},
   "outputs": [],
   "source": []
  },
  {
   "cell_type": "markdown",
   "metadata": {},
   "source": [
    "### Exercises\n",
    "\n",
    "1. Try continuum *normalizing* using the above assumed continuum level, instead of subtracting. \n",
    "2. You can tell by-eye that the continuum isn't a flat level, but has a slope to it.  Try subtracting a *sloping* continuum instead of a single value (it's fine to just estimate it by-eye, fancier continuum subtracting will come later)."
   ]
  },
  {
   "cell_type": "code",
   "execution_count": null,
   "metadata": {},
   "outputs": [],
   "source": []
  },
  {
   "cell_type": "markdown",
   "metadata": {},
   "source": [
    "## SNR and Uncertainties\n",
    "\n",
    "Now lets try a simple calculation: the S/N of this spectrum. While pipeline-output JWST files will have uncertainties, for this example we are using a basic simulation without the uncertainities. Hence we start using an SNR estimate that follows a [straightforward algorithm detailed in the literature](https://www.stecf.org/software/ASTROsoft/DER_SNR/)."
   ]
  },
  {
   "cell_type": "code",
   "execution_count": null,
   "metadata": {},
   "outputs": [],
   "source": []
  },
  {
   "cell_type": "markdown",
   "metadata": {},
   "source": [
    "That's straightforward enough, but does not use any uncertainty information beyond the spectrum itself. To mock up what real JWST might look like (or how you would provide your *own* uncertainties), we can create a new Spectrum1D object with by-hand added uncertainties:"
   ]
  },
  {
   "cell_type": "code",
   "execution_count": null,
   "metadata": {},
   "outputs": [],
   "source": []
  },
  {
   "cell_type": "markdown",
   "metadata": {},
   "source": [
    "After that, it is a one-liner to compute the S/N directly, which will use the uncertainty already in the spectrum:"
   ]
  },
  {
   "cell_type": "code",
   "execution_count": null,
   "metadata": {},
   "outputs": [],
   "source": []
  }
 ],
 "metadata": {
  "kernelspec": {
   "display_name": "Python 3 (ipykernel)",
   "language": "python",
   "name": "python3"
  },
  "language_info": {
   "codemirror_mode": {
    "name": "ipython",
    "version": 3
   },
   "file_extension": ".py",
   "mimetype": "text/x-python",
   "name": "python",
   "nbconvert_exporter": "python",
   "pygments_lexer": "ipython3",
   "version": "3.10.10"
  }
 },
 "nbformat": 4,
 "nbformat_minor": 4
}
