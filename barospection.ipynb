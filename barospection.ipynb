{
 "cells": [
  {
   "cell_type": "markdown",
   "id": "00619af1-9183-4393-b0c4-7c1b2abed29b",
   "metadata": {},
   "source": [
    "# BaroSpection - Introduction to Spectroscopy\n",
    "![](barospection.png)"
   ]
  },
  {
   "cell_type": "markdown",
   "id": "09f8789e-4355-4d49-83f5-0ebfca0e454c",
   "metadata": {},
   "source": [
    "## Introduction to Light & Matter and Electromagnetism\n",
    "1. What is Light?\n",
    "1. Electromagnetic Waves\n",
    "1. Photons & Matter"
   ]
  },
  {
   "cell_type": "markdown",
   "id": "d6ce2f24-d67c-476e-bfb8-4ad1b93d8529",
   "metadata": {},
   "source": [
    "## Light & Matter Interactions\n",
    "1.  What is a Blackbody \n",
    "1.  Electromagnetic Spectrum\n",
    "1.  Modeling a Black Body\n",
    "1.  Waves & Particles"
   ]
  },
  {
   "cell_type": "markdown",
   "id": "53ed5cbf-1c0b-4c2b-a9af-77fb87b5ee6d",
   "metadata": {},
   "source": [
    "## Spectroscopy\n",
    "1. What is Spectroscopy\n",
    "1. Types of Spectra\n",
    "    1. Continuous Spectrum\n",
    "    1. Absorption Spectrum\n",
    "    1. Emission Spectrum\n",
    "1. Source of Spectral Lines\n",
    "1. Calculating Balmer's Constant\n",
    "1. Doppler Effect on Spectral Lines"
   ]
  },
  {
   "cell_type": "markdown",
   "id": "fefe02f1-412b-4a49-943d-ff305c223faa",
   "metadata": {},
   "source": [
    "## Star Properties\n",
    "1. Star Types\n",
    "1. What can you learn from Star Spectra\n",
    "2. HertzSprung Russell Diagram (HRD)\n",
    "3. Plot an HRD for Sun's 100 Parsec neighbourhood"
   ]
  },
  {
   "cell_type": "markdown",
   "id": "d694550f-b7ed-49da-8512-5ced7d6c533d",
   "metadata": {},
   "source": [
    "## Obtain Spectra from the BARO Telescope\n",
    "1. Spectral Grating configuration on BARO\n",
    "1. Selecting Targets in the Solar Neiborhood\n",
    "1. Create Target List for Hot & Cool Stars & Nebulae\n",
    "1. Schedule to obtain Spectra\n",
    "1. Calibrate using RSpec "
   ]
  },
  {
   "cell_type": "markdown",
   "id": "c54a2601-fc90-4439-a194-0b730f0f7b5b",
   "metadata": {},
   "source": [
    "## Analyze & Publish Sprectral Images\n",
    "1. Use RSpec to Analyze Spectral Lines\n",
    "1. Measure Wavelenghts & Frequencies\n",
    "1. Measure Shift in Spectral Lines\n",
    "1. Compare against NIST Standard\n",
    "1. Publish yoiur results in a Jupyter Notebook\n",
    "1. Post examples to RSpec website"
   ]
  },
  {
   "cell_type": "code",
   "execution_count": null,
   "id": "ae61a318-4f20-4f61-893a-c89928a94193",
   "metadata": {},
   "outputs": [],
   "source": []
  }
 ],
 "metadata": {
  "kernelspec": {
   "display_name": "Python 3 (ipykernel)",
   "language": "python",
   "name": "python3"
  },
  "language_info": {
   "codemirror_mode": {
    "name": "ipython",
    "version": 3
   },
   "file_extension": ".py",
   "mimetype": "text/x-python",
   "name": "python",
   "nbconvert_exporter": "python",
   "pygments_lexer": "ipython3",
   "version": "3.9.12"
  }
 },
 "nbformat": 4,
 "nbformat_minor": 5
}
