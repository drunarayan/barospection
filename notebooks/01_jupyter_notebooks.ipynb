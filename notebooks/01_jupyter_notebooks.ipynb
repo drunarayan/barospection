{
 "cells": [
  {
   "cell_type": "markdown",
   "id": "6aa3d327",
   "metadata": {},
   "source": [
    "# BAROspection - Jupyter Notebook Basics\n",
    "\n",
    "[JupyterLab Reference](https://jupyterlab.readthedocs.io/en/stable/user/interface.html)<br>\n",
    "Credits: Oak Ridge National Labs - Suhas Somnath, Rama K. Vasudevan, Stephen Jesse, Liam Collins, Chris Smith\n",
    "\n",
    "This is a Jupyter Notebook. Press ``Shift``+``Enter`` to execute a ``cell``"
   ]
  },
  {
   "cell_type": "markdown",
   "id": "6f0518bb",
   "metadata": {},
   "source": [
    "## A beginner's introduction to JupyterHub, JupyterLab and Jupyter Notebooks\n",
    "\n",
    "In this project you will get beginner's introduction to using JupyterLab and Jupyter Notebooks. For this course we created a JupyterHub virtual environment on Google Cloud where you will login to access course materials. These include inital version of Jupyter Notebooks, images, video, CSV files and other media which you will modify to create your own versions and publish them.\n",
    "\n",
    "## JupyterHub 🧪\n",
    "\n",
    "**JupyterHub** is a virtual environment on Google Cloud where you will login to access course materials and the server where your Jupyter Notebooks are hosted. This server is tuned for availability during daytime hours at each time zone that our participants access this course.\n",
    "\n",
    "## JupyterLab 🧪\n",
    "\n",
    "**JupyterLab** is a next-generation web-based user interface for Project Jupyter. It enables you to work with documents and activities such as Jupyter notebooks, text editors, terminals, and custom components in a flexible, integrated, and extensible manner. It is the interface that you're looking at right now.  If you like a tour, you can click [Getting started with JupyterLab Interface](https://jupyterlab.readthedocs.io/en/stable/user/interface.html).  Instead, you can also jump straight in below and learn by doing it!  If you are confused, come back to the above link.\n",
    "\n",
    "For a more complete discussion about JupyterLab I would recommnd No Complexity page on [Mastering JupyterLab](https://nocomplexity.com/documents/jupyterlab/intro.html)\n",
    "\n",
    "## Jupyter Notebooks 📓\n",
    "\n",
    "**Jupyter Notebooks** are a community standard for communicating and performing interactive computing. They are a document that blends computations, outputs, explanatory text, mathematics, images, and rich media representations of objects.\n",
    "\n",
    "JupyterLab is one interface used to create and interact with Jupyter Notebooks. Right-Click and open a new window for instructions to follow along in this Jupyter Notebook.\n",
    "\n",
    "Please complete the folowing Lessons/Notebooks in Sequence to learn about the JupyterLab environment\n",
    "\n",
    "Lessons | Topic Description\n",
    "---|---\n",
    "1|<a href=\"https://jupyterlab.readthedocs.io/en/stable/user/interface.html\" target=\"_blank\">Getting started with JupyterLab Interface</a>\n",
    "2|<a href=\"https://boyceastrows.gleeze.com/hub/user-redirect/git-pull?repo=https%3A%2F%2Fgithub.com%2Fdrunarayan%2Fpython4astronomy&branch=gh-pages&urlpath=lab%2Ftree%2Fpython4astronomy%2Fbasics_jupyterlab_notebook%2Fintro_to_jupyter.ipynb?reset\" target=\"_blank\">Intro to Jupyter Notebooks</a>\n",
    "\n",
    "1. Right-Click links above to Open in New Window on this link and Log in to JupyterHub with your assigned username.\n",
    "\n",
    "2. Read instructions and execute each cell by pressing Shift-Enter on your keyboard\n"
   ]
  },
  {
   "cell_type": "markdown",
   "id": "8842f77f",
   "metadata": {},
   "source": [
    "## The Notebook dashboard"
   ]
  },
  {
   "cell_type": "markdown",
   "id": "091d7f66",
   "metadata": {},
   "source": [
    "When you first start the notebook server, your browser will open to the notebook dashboard. The dashboard serves as a home page for the notebook. Its main purpose is to display the notebooks and files in the current directory. For example, here is a screenshot of the dashboard page for the `examples` directory in the Jupyter repository:\n",
    "\n",
    "![Jupyter dashboard showing files tab](assets_jupyter/dashboard_files_tab.png)"
   ]
  },
  {
   "cell_type": "markdown",
   "id": "170774ae",
   "metadata": {},
   "source": [
    "The top of the notebook list displays clickable breadcrumbs of the current directory. By clicking on these breadcrumbs or on sub-directories in the notebook list, you can navigate your file system.\n",
    "\n",
    "To create a new notebook, click on the \"New\" button at the top of the list and select a kernel from the dropdown (as seen below).  Which kernels are listed depend on what's installed on the server.  Some of the kernels in the screenshot below may not exist as an option to you.\n",
    "\n",
    "![Jupyter \"New\" menu](assets_jupyter/dashboard_files_tab_new.png)"
   ]
  },
  {
   "cell_type": "markdown",
   "id": "4ee1ade3",
   "metadata": {},
   "source": [
    "Notebooks and files can be uploaded to the current directory by dragging a notebook file onto the notebook list or by the \"click here\" text above the list.\n",
    "\n",
    "The notebook list shows green \"Running\" text and a green notebook icon next to running notebooks (as seen below). Notebooks remain running until you explicitly shut them down; closing the notebook's page is not sufficient.\n",
    "\n",
    "\n",
    "![Jupyter dashboard showing one notebook with a running kernel](assets_jupyter/dashboard_files_tab_run.png)"
   ]
  },
  {
   "cell_type": "markdown",
   "id": "bceb0025",
   "metadata": {},
   "source": [
    "To shutdown, delete, duplicate, or rename a notebook check the checkbox next to it and an array of controls will appear at the top of the notebook list (as seen below).  You can also use the same operations on directories and files when applicable.\n",
    "\n",
    "![Buttons: Duplicate, rename, shutdown, delete, new, refresh](assets_jupyter/dashboard_files_tab_btns.png)"
   ]
  },
  {
   "cell_type": "markdown",
   "id": "9b25f6d9",
   "metadata": {},
   "source": [
    "To see all of your running notebooks along with their directories, click on the \"Running\" tab:\n",
    "\n",
    "![Jupyter dashboard running tab](assets_jupyter/dashboard_running_tab.png)\n",
    "\n",
    "This view provides a convenient way to track notebooks that you start as you navigate the file system in a long running notebook server."
   ]
  },
  {
   "cell_type": "markdown",
   "id": "948e105f",
   "metadata": {},
   "source": [
    "## Overview of the Notebook UI"
   ]
  },
  {
   "cell_type": "markdown",
   "id": "7aa1e2d7",
   "metadata": {},
   "source": [
    "If you create a new notebook or open an existing one, you will be taken to the notebook user interface (UI). This UI allows you to run code and author notebook documents interactively. The notebook UI has the following main areas:\n",
    "\n",
    "* Menu\n",
    "* Toolbar\n",
    "* Notebook area and cells\n",
    "\n",
    "The notebook has an interactive tour of these elements that can be started in the \"Help:User Interface Tour\" menu item."
   ]
  },
  {
   "cell_type": "markdown",
   "id": "9b849057",
   "metadata": {},
   "source": [
    "## JupyterLab Modal editor"
   ]
  },
  {
   "cell_type": "markdown",
   "id": "7ec4897f",
   "metadata": {},
   "source": [
    "Starting with IPython 2.0, the Jupyter Notebook has a modal user interface. This means that the keyboard does different things depending on which mode the Notebook is in. There are two modes: edit mode and command mode."
   ]
  },
  {
   "cell_type": "markdown",
   "id": "4fc161a0",
   "metadata": {},
   "source": [
    "### Edit mode"
   ]
  },
  {
   "cell_type": "markdown",
   "id": "f3ea66b3",
   "metadata": {},
   "source": [
    "Edit mode is indicated by a green cell border and a prompt showing in the editor area:\n",
    "\n",
    "![Jupyter cell with green border](assets_jupyter/edit_mode.png)\n",
    "\n",
    "When a cell is in edit mode, you can type into the cell, like a normal text editor."
   ]
  },
  {
   "cell_type": "markdown",
   "id": "b764f4bc",
   "metadata": {},
   "source": [
    "<div class=\"alert alert-success\">\n",
    "Enter edit mode by pressing `Enter` or using the mouse to click on a cell's editor area.\n",
    "</div>"
   ]
  },
  {
   "cell_type": "markdown",
   "id": "7e6a1fb3",
   "metadata": {},
   "source": [
    "### Command mode"
   ]
  },
  {
   "cell_type": "markdown",
   "id": "a6e5133b",
   "metadata": {},
   "source": [
    "Command mode is indicated by a grey cell border with a blue left margin:\n",
    "\n",
    "![Jupyter cell with blue & grey border](assets_jupyter/command_mode.png)\n",
    "\n",
    "When you are in command mode, you are able to edit the notebook as a whole, but not type into individual cells. Most importantly, in command mode, the keyboard is mapped to a set of shortcuts that let you perform notebook and cell actions efficiently. For example, if you are in command mode and you press `c`, you will copy the current cell - no modifier is needed."
   ]
  },
  {
   "cell_type": "markdown",
   "id": "e9fadae0",
   "metadata": {},
   "source": [
    "<div class=\"alert alert-error\">\n",
    "Don't try to type into a cell in command mode; unexpected things will happen!\n",
    "</div>"
   ]
  },
  {
   "cell_type": "markdown",
   "id": "79304dd8",
   "metadata": {},
   "source": [
    "<div class=\"alert alert-success\">\n",
    "Enter command mode by pressing `Esc` or using the mouse to click *outside* a cell's editor area.\n",
    "</div>"
   ]
  },
  {
   "cell_type": "markdown",
   "id": "f00bc2dd",
   "metadata": {},
   "source": [
    "## Mouse navigation"
   ]
  },
  {
   "cell_type": "markdown",
   "id": "ad3077fe",
   "metadata": {},
   "source": [
    "All navigation and actions in the Notebook are available using the mouse through the menubar and toolbar, which are both above the main Notebook area:\n",
    "\n",
    "![Jupyter notebook menus and toolbar](assets_jupyter/menubar_toolbar.png)"
   ]
  },
  {
   "cell_type": "markdown",
   "id": "03b6333a",
   "metadata": {},
   "source": [
    "The first idea of mouse based navigation is that **cells can be selected by clicking on them.** The currently selected cell gets a grey or green border depending on whether the notebook is in edit or command mode. If you click inside a cell's editor area, you will enter edit mode. If you click on the prompt or output area of a cell you will enter command mode.\n",
    "\n",
    "If you are running this notebook in a live session (not on http://nbviewer.jupyter.org) try selecting different cells and going between edit and command mode. Try typing into a cell."
   ]
  },
  {
   "cell_type": "markdown",
   "id": "49a527f8",
   "metadata": {},
   "source": [
    "The second idea of mouse based navigation is that **cell actions usually apply to the currently selected cell**. Thus if you want to run the code in a cell, you would select it and click the <button class='btn btn-default btn-xs'><i class=\"fa fa-step-forward icon-step-forward\"></i></button> button in the toolbar or the \"Cell:Run\" menu item. Similarly, to copy a cell you would select it and click the <button class='btn btn-default btn-xs'><i class=\"fa fa-copy icon-copy\"></i></button> button in the toolbar or the \"Edit:Copy\" menu item. With this simple pattern, you should be able to do most everything you need with the mouse.\n",
    "\n",
    "Markdown cells have one other state that can be modified with the mouse. These cells can either be rendered or unrendered. When they are rendered, you will see a nice formatted representation of the cell's contents. When they are unrendered, you will see the raw text source of the cell. To render the selected cell with the mouse, click the <button class='btn btn-default btn-xs'><i class=\"fa fa-step-forward icon-step-forward\"></i></button> button in the toolbar or the \"Cell:Run\" menu item. To unrender the selected cell, double click on the cell."
   ]
  },
  {
   "cell_type": "markdown",
   "id": "a1502248",
   "metadata": {},
   "source": [
    "## Keyboard Navigation"
   ]
  },
  {
   "cell_type": "markdown",
   "id": "20571525",
   "metadata": {},
   "source": [
    "The modal user interface of the Jupyter Notebook has been optimized for efficient keyboard usage. This is made possible by having two different sets of keyboard shortcuts: one set that is active in edit mode and another in command mode.\n",
    "\n",
    "The most important keyboard shortcuts are `Enter`, which enters edit mode, and `Esc`, which enters command mode.\n",
    "\n",
    "In edit mode, most of the keyboard is dedicated to typing into the cell's editor. Thus, in edit mode there are relatively few shortcuts.  In command mode, the entire keyboard is available for shortcuts, so there are many more.  The `Help`->`Keyboard Shortcuts` dialog lists the available shortcuts."
   ]
  },
  {
   "cell_type": "markdown",
   "id": "ac36d948",
   "metadata": {},
   "source": [
    "We recommend learning the command mode shortcuts in the following rough order:\n",
    "\n",
    "1. Basic navigation: `enter`, `shift-enter`, `up/k`, `down/j`\n",
    "2. Saving the notebook: `s`\n",
    "2. Change Cell types: `y`, `m`, `1-6`, `t`\n",
    "3. Cell creation: `a`, `b`\n",
    "4. Cell editing: `x`, `c`, `v`, `d`, `z`\n",
    "5. Kernel operations: `i`, `0` (press twice)"
   ]
  },
  {
   "cell_type": "markdown",
   "id": "a096d152",
   "metadata": {},
   "source": [
    "### A handy way to shortcuts is to use the command palette: Cmd + Shift + P (or Ctrl + Shift + P on Linux and Windows). "
   ]
  },
  {
   "cell_type": "markdown",
   "id": "f6295932",
   "metadata": {},
   "source": [
    "Esc will take you into command mode where you can navigate around your notebook with arrow keys.\n",
    "While in command mode:\n",
    "\n",
    "* A to insert a new cell above the current cell, B to insert a new cell below.\n",
    "\n",
    "* M to change the current cell to Markdown, Y to change it back to code\n",
    "\n",
    "* D + D (press the key twice) to delete the current cell\n",
    "\n",
    "* Enter will take you from command mode back into edit mode for the given cell.\n",
    "\n",
    "* Shift + Tab will show you the Docstring (documentation) for the the object you have just typed in a code cell - you can keep pressing this short cut to cycle through a few modes of documentation.\n",
    "\n",
    "* Ctrl + Shift + - will split the current cell into two from where your cursor is.\n",
    "\n",
    "* Esc + F Find and replace on your code but not the outputs.\n",
    "\n",
    "* Esc + O Toggle cell output.\n",
    "\n",
    "* Select Multiple Cells:\n",
    "    Shift + J or Shift + Down selects the next sell in a downwards direction. You can also select sells in an upwards direction by using Shift + K or Shift + Up.\n",
    "    Once cells are selected, you can then delete / copy / cut / paste / run them as a batch. This is helpful when you need to move parts of a notebook.\n",
    "    You can also use Shift + M to merge multiple cells."
   ]
  },
  {
   "cell_type": "code",
   "execution_count": null,
   "id": "c0ebe1f9",
   "metadata": {},
   "outputs": [],
   "source": [
    "%lsmagic"
   ]
  },
  {
   "cell_type": "code",
   "execution_count": null,
   "id": "85dcff32",
   "metadata": {},
   "outputs": [],
   "source": []
  }
 ],
 "metadata": {
  "language_info": {
   "name": "python"
  }
 },
 "nbformat": 4,
 "nbformat_minor": 5
}
